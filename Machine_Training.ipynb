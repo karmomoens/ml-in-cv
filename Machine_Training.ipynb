{
 "cells": [
  {
   "cell_type": "code",
   "execution_count": null,
   "metadata": {},
   "outputs": [],
   "source": [
    "import numpy as np"
   ]
  },
  {
   "cell_type": "code",
   "execution_count": null,
   "metadata": {},
   "outputs": [],
   "source": [
    "%matplotlib notebook\n",
    "from notebookcam_utils import process_on_webcam"
   ]
  },
  {
   "cell_type": "code",
   "execution_count": null,
   "metadata": {},
   "outputs": [],
   "source": [
    "from src.machinelearningsuite.machinelearningsuite import MachineLearningSuite"
   ]
  },
  {
   "cell_type": "markdown",
   "metadata": {},
   "source": [
    "## Initialize the machine learning suite"
   ]
  },
  {
   "cell_type": "code",
   "execution_count": null,
   "metadata": {},
   "outputs": [],
   "source": [
    "suite = MachineLearningSuite(\"webcam\", \"/media/local/data/shape_predictor_68_face_landmarks.dat\")\n",
    "suite.initialize()"
   ]
  },
  {
   "cell_type": "markdown",
   "metadata": {},
   "source": [
    "You can \"comment out\" the reset if it annoys you, by changing the type to 'raw'."
   ]
  },
  {
   "cell_type": "code",
   "execution_count": null,
   "metadata": {},
   "outputs": [],
   "source": [
    "suite.configuration.reset()"
   ]
  },
  {
   "cell_type": "code",
   "execution_count": null,
   "metadata": {},
   "outputs": [],
   "source": [
    "suite.source.release()"
   ]
  },
  {
   "cell_type": "markdown",
   "metadata": {},
   "source": [
    "## Create the classes and select the facial landmark parts that define them"
   ]
  },
  {
   "cell_type": "code",
   "execution_count": null,
   "metadata": {},
   "outputs": [],
   "source": [
    "suite.create_classes()"
   ]
  },
  {
   "cell_type": "code",
   "execution_count": null,
   "metadata": {},
   "outputs": [],
   "source": [
    "suite.select_parts()"
   ]
  },
  {
   "cell_type": "markdown",
   "metadata": {},
   "source": [
    "## Collect training data for each class"
   ]
  },
  {
   "cell_type": "code",
   "execution_count": null,
   "metadata": {},
   "outputs": [],
   "source": [
    "def collect_data_for_class(class_index):\n",
    "    def collect_frame_for_class(frame):\n",
    "        frame, landmarks = suite.landmark_detector.get_frame_with_landmarks(frame)\n",
    "        feature_vector = suite.feature_processor.process(landmarks)\n",
    "        if feature_vector:\n",
    "            suite.configuration.set_data_values(class_index, feature_vector)\n",
    "        return frame\n",
    "    process_on_webcam(process_function=collect_frame_for_class, final_message=\"Stopped gathering data for class {}\".format(class_index), finalize_function=suite.configuration.save_configuration)"
   ]
  },
  {
   "cell_type": "code",
   "execution_count": null,
   "metadata": {},
   "outputs": [],
   "source": [
    "collect_data_for_class(0)"
   ]
  },
  {
   "cell_type": "code",
   "execution_count": null,
   "metadata": {},
   "outputs": [],
   "source": [
    "collect_data_for_class(1)"
   ]
  },
  {
   "cell_type": "markdown",
   "metadata": {},
   "source": [
    "# Test the predictions"
   ]
  },
  {
   "cell_type": "code",
   "execution_count": null,
   "metadata": {},
   "outputs": [],
   "source": [
    "suite.normalizer.train()\n",
    "suite.classifier.train()\n",
    "suite.configuration.save_configuration()"
   ]
  },
  {
   "cell_type": "code",
   "execution_count": null,
   "metadata": {},
   "outputs": [],
   "source": [
    "def predict():\n",
    "    def predict_on_frame(frame):\n",
    "        frame, landmarks = suite.landmark_detector.get_frame_with_landmarks(frame)\n",
    "        feature_vector = suite.feature_processor.process(landmarks)\n",
    "        if feature_vector:\n",
    "            feature_vector = np.asarray(feature_vector).reshape(1, -1)\n",
    "            feature_vector_normalized = suite.normalizer.normalize(feature_vector)\n",
    "            prediction = suite.classifier.predict(feature_vector_normalized)\n",
    "            try:\n",
    "                predicted_class = suite.configuration.classes[int(prediction[0])]\n",
    "                label = predicted_class\n",
    "                font = cv2.FONT_HERSHEY_SIMPLEX\n",
    "                cv2.putText(frame, label, (100, 400), font, 1, (255, 255, 255), 2, cv2.LINE_AA)\n",
    "            except IndexError:\n",
    "                print(\"This class has no label yet (class index: {})\".format(prediction[0]))\n",
    "        return frame\n",
    "    process_on_webcam(process_function=predict_on_frame)"
   ]
  },
  {
   "cell_type": "code",
   "execution_count": null,
   "metadata": {},
   "outputs": [],
   "source": [
    "predict()"
   ]
  },
  {
   "cell_type": "markdown",
   "metadata": {},
   "source": [
    "## Use the classifier to make attachments appear"
   ]
  },
  {
   "cell_type": "markdown",
   "metadata": {},
   "source": [
    "You can use the classifier that you just trained by passing its path (./config.pkl) to the constructor of a PredictorInterface."
   ]
  },
  {
   "cell_type": "markdown",
   "metadata": {},
   "source": [
    "Rename the file to avoid accidentally overwriting it."
   ]
  }
 ],
 "metadata": {
  "kernelspec": {
   "display_name": "Python 3",
   "language": "python",
   "name": "python3"
  },
  "language_info": {
   "codemirror_mode": {
    "name": "ipython",
    "version": 3
   },
   "file_extension": ".py",
   "mimetype": "text/x-python",
   "name": "python",
   "nbconvert_exporter": "python",
   "pygments_lexer": "ipython3",
   "version": "3.6.3"
  }
 },
 "nbformat": 4,
 "nbformat_minor": 2
}
