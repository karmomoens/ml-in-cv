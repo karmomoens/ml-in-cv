{
 "cells": [
  {
   "cell_type": "code",
   "execution_count": null,
   "metadata": {},
   "outputs": [],
   "source": [
    "import sys\n",
    "from os.path import split\n",
    "import numpy as np\n",
    "from IPython.display import clear_output"
   ]
  },
  {
   "cell_type": "code",
   "execution_count": null,
   "metadata": {},
   "outputs": [],
   "source": [
    "from src.machinelearningsuite.machinelearningsuite import MachineLearningSuite"
   ]
  },
  {
   "cell_type": "code",
   "execution_count": null,
   "metadata": {},
   "outputs": [],
   "source": [
    "%matplotlib notebook\n",
    "%gui asyncio\n",
    "import matplotlib.pyplot as plt\n",
    "import ipywidgets\n",
    "import IPython\n",
    "import PIL.Image\n",
    "from io import StringIO\n",
    "from io import BytesIO\n",
    "from IPython.display import clear_output\n",
    "import cv2\n",
    "from time import sleep"
   ]
  },
  {
   "cell_type": "code",
   "execution_count": null,
   "metadata": {},
   "outputs": [],
   "source": [
    "#Use 'jpeg' instead of 'png' (~5 times faster)\n",
    "def showarray(array, displayables=[], fmt='jpeg', is_rgb=False):\n",
    "    if not is_rgb:\n",
    "        array = cv2.cvtColor(array, cv2.COLOR_BGR2RGB)\n",
    "    f = BytesIO()\n",
    "    something = PIL.Image.fromarray(array)\n",
    "    something.save(f, fmt)\n",
    "    clear_output(wait=True)\n",
    "    for d in displayables:\n",
    "        display(d)\n",
    "    IPython.display.display(IPython.display.Image(data=f.getvalue()))\n",
    "    # plt.imshow(a)"
   ]
  },
  {
   "cell_type": "code",
   "execution_count": null,
   "metadata": {},
   "outputs": [],
   "source": [
    "suite = MachineLearningSuite(\"webcam\", \"/media/local/data/shape_predictor_68_face_landmarks.dat\")\n",
    "suite.initialize()"
   ]
  },
  {
   "cell_type": "code",
   "execution_count": null,
   "metadata": {},
   "outputs": [],
   "source": [
    "suite.configuration.reset()"
   ]
  },
  {
   "cell_type": "code",
   "execution_count": null,
   "metadata": {},
   "outputs": [],
   "source": [
    "suite.create_classes()"
   ]
  },
  {
   "cell_type": "code",
   "execution_count": null,
   "metadata": {},
   "outputs": [],
   "source": [
    "suite.select_parts()"
   ]
  },
  {
   "cell_type": "code",
   "execution_count": null,
   "metadata": {},
   "outputs": [],
   "source": [
    "suite.source.release()\n",
    "def construct_stream():\n",
    "    return cv2.VideoCapture(0)"
   ]
  },
  {
   "cell_type": "code",
   "execution_count": null,
   "metadata": {},
   "outputs": [],
   "source": [
    "def process_on_webcam(process_function=lambda _: None, final_message=\"Stream stopped\", finalize_function=lambda: None):\n",
    "    source = construct_stream()\n",
    "    try:\n",
    "        while True:\n",
    "                ret, frame = source.read()\n",
    "                if frame is None:\n",
    "                    clear_output(wait=True)\n",
    "                    print(\"No valid camera frames\")\n",
    "                    continue\n",
    "                output = process_function(frame)\n",
    "                if output is not None:\n",
    "                    frame = output\n",
    "                showarray(frame)\n",
    "    except Exception as e:\n",
    "        print(e)\n",
    "        info = sys.exc_info()\n",
    "        exception_type = info[0]\n",
    "        trace_back = info[2]\n",
    "        filename = split(trace_back.tb_frame.f_code.co_filename)[1]\n",
    "        line_number = 1 + trace_back.tb_lineno\n",
    "        print(exception_type)\n",
    "        print(filename)\n",
    "        print(line_number)\n",
    "        print(\"\")\n",
    "    except KeyboardInterrupt:\n",
    "        pass\n",
    "    finally:\n",
    "        source.release()\n",
    "        print(final_message)\n",
    "        finalize_function()"
   ]
  },
  {
   "cell_type": "code",
   "execution_count": null,
   "metadata": {},
   "outputs": [],
   "source": [
    "def collect_data_for_class(class_index):\n",
    "    def collect_frame_for_class(frame):\n",
    "        frame, landmarks = suite.landmark_detector.get_frame_with_landmarks(frame)\n",
    "        feature_vector = suite.feature_processor.process(landmarks)\n",
    "        if feature_vector:\n",
    "            suite.configuration.set_data_values(class_index, feature_vector)\n",
    "        return frame\n",
    "    process_on_webcam(process_function=collect_frame_for_class, final_message=\"Stopped gathering data for class {}\".format(class_index), finalize_function=suite.configuration.save_configuration)"
   ]
  },
  {
   "cell_type": "code",
   "execution_count": null,
   "metadata": {},
   "outputs": [],
   "source": [
    "collect_data_for_class(0)"
   ]
  },
  {
   "cell_type": "code",
   "execution_count": null,
   "metadata": {},
   "outputs": [],
   "source": [
    "collect_data_for_class(1)"
   ]
  },
  {
   "cell_type": "code",
   "execution_count": null,
   "metadata": {},
   "outputs": [],
   "source": [
    "suite.normalizer.train()\n",
    "suite.classifier.train()\n",
    "def predict():\n",
    "    def predict_on_frame(frame):\n",
    "        frame, landmarks = suite.landmark_detector.get_frame_with_landmarks(frame)\n",
    "        feature_vector = suite.feature_processor.process(landmarks)\n",
    "        if feature_vector:\n",
    "            feature_vector = np.asarray(feature_vector).reshape(1, -1)\n",
    "            feature_vector_normalized = suite.normalizer.normalize(feature_vector)\n",
    "            prediction = suite.classifier.predict(feature_vector_normalized)\n",
    "            try:\n",
    "                predicted_class = suite.configuration.classes[int(prediction[0])]\n",
    "                label = predicted_class\n",
    "                font = cv2.FONT_HERSHEY_SIMPLEX\n",
    "                cv2.putText(frame, label, (100, 400), font, 1, (255, 255, 255), 2, cv2.LINE_AA)\n",
    "            except IndexError:\n",
    "                print(\"This class has no label yet (class index: {})\".format(prediction[0]))\n",
    "        return frame\n",
    "    process_on_webcam(process_function=predict_on_frame)"
   ]
  },
  {
   "cell_type": "code",
   "execution_count": null,
   "metadata": {},
   "outputs": [],
   "source": [
    "predict()"
   ]
  },
  {
   "cell_type": "code",
   "execution_count": null,
   "metadata": {},
   "outputs": [],
   "source": []
  }
 ],
 "metadata": {
  "kernelspec": {
   "display_name": "Python 3",
   "language": "python",
   "name": "python3"
  },
  "language_info": {
   "codemirror_mode": {
    "name": "ipython",
    "version": 3
   },
   "file_extension": ".py",
   "mimetype": "text/x-python",
   "name": "python",
   "nbconvert_exporter": "python",
   "pygments_lexer": "ipython3",
   "version": "3.6.3"
  }
 },
 "nbformat": 4,
 "nbformat_minor": 2
}
