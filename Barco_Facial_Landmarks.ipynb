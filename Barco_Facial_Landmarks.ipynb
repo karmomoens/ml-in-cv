{
 "cells": [
  {
   "cell_type": "code",
   "execution_count": null,
   "metadata": {},
   "outputs": [],
   "source": [
    "import cv2"
   ]
  },
  {
   "cell_type": "code",
   "execution_count": null,
   "metadata": {},
   "outputs": [],
   "source": [
    "%matplotlib notebook\n",
    "from notebookcam_utils import process_on_webcam"
   ]
  },
  {
   "cell_type": "code",
   "execution_count": null,
   "metadata": {},
   "outputs": [],
   "source": [
    "from src.imageoverlay.classification_decorator import ClassificationDecorator as ClassDecorator\n",
    "from src.imageoverlay.framecomponent import CachingLandmarkComponent as LandmarkComponent\n",
    "from src.imageoverlay.multifacesloopdecorator import MultiFacesLoopDecorator as AllFaces\n",
    "from src.imageoverlay.framecomponent import LandmarkOverlayDecorator\n",
    "from src.machinelearningsuite.landmarkdetector import LandmarkDetector\n",
    "from src.machinelearningsuite.predictorinterface import PredictorInterface\n",
    "from src.imageoverlay.configured_overlay_decorator import ConfiguredOverlayDecorator as SpriteDecorator"
   ]
  },
  {
   "cell_type": "markdown",
   "metadata": {},
   "source": [
    "## Video parameters"
   ]
  },
  {
   "cell_type": "code",
   "execution_count": null,
   "metadata": {},
   "outputs": [],
   "source": [
    "scale = 0.6"
   ]
  },
  {
   "cell_type": "markdown",
   "metadata": {},
   "source": [
    "## Main loop method"
   ]
  },
  {
   "cell_type": "code",
   "execution_count": null,
   "metadata": {},
   "outputs": [],
   "source": [
    "def run_pipeline_with_end_component(component):\n",
    "    def send_frame_through_pipeline(frame):\n",
    "        frame = cv2.resize(frame, (0, 0), fx=scale, fy=scale)\n",
    "        base_component.set_image(frame)\n",
    "        output = component.get_image()\n",
    "        return output\n",
    "    process_on_webcam(process_function=send_frame_through_pipeline)"
   ]
  },
  {
   "cell_type": "markdown",
   "metadata": {},
   "source": [
    "## Decorator pipeline"
   ]
  },
  {
   "cell_type": "code",
   "execution_count": null,
   "metadata": {},
   "outputs": [],
   "source": [
    "# Instanciate a new landmark detector\n",
    "detector_data_path = '/media/local/data/shape_predictor_68_face_landmarks.dat'\n",
    "landmark_detector = LandmarkDetector(predictor_file=detector_data_path)\n",
    "\n",
    "# Create a frame component with landmarks\n",
    "base_component = LandmarkComponent(landmark_detector)"
   ]
  },
  {
   "cell_type": "code",
   "execution_count": null,
   "metadata": {},
   "outputs": [],
   "source": [
    "landmarks = LandmarkOverlayDecorator(base_component)"
   ]
  },
  {
   "cell_type": "code",
   "execution_count": null,
   "metadata": {},
   "outputs": [],
   "source": [
    "# Instantiate and initialize the trained predictor\n",
    "predictor = PredictorInterface('./examples/mouth.pkl')\n",
    "predictor.initialize()"
   ]
  },
  {
   "cell_type": "code",
   "execution_count": null,
   "metadata": {},
   "outputs": [],
   "source": [
    "# Add decorator for the predictor\n",
    "predictor_decorator = ClassDecorator(parent_component=landmarks, classifier=predictor)\n",
    "hat = SpriteDecorator(base_file_name='./sprites/Party_Hat')\n",
    "predictor_decorator.set_decorator_for_class(hat, 0)"
   ]
  },
  {
   "cell_type": "code",
   "execution_count": null,
   "metadata": {},
   "outputs": [],
   "source": [
    "multifaces = AllFaces.wrap(predictor_decorator)"
   ]
  },
  {
   "cell_type": "markdown",
   "metadata": {},
   "source": [
    "## Run"
   ]
  },
  {
   "cell_type": "code",
   "execution_count": null,
   "metadata": {},
   "outputs": [],
   "source": [
    "run_pipeline_with_end_component(multifaces)"
   ]
  },
  {
   "cell_type": "markdown",
   "metadata": {},
   "source": [
    "## Useful bash commands"
   ]
  },
  {
   "cell_type": "markdown",
   "metadata": {},
   "source": [
    "(Change the cell types from 'raw' to 'code' by pressing the 'y' key, then execute)"
   ]
  },
  {
   "cell_type": "markdown",
   "metadata": {},
   "source": [
    "Check the available video devices"
   ]
  },
  {
   "cell_type": "raw",
   "metadata": {},
   "source": [
    "!ls -lthr /dev/video*"
   ]
  },
  {
   "cell_type": "markdown",
   "metadata": {},
   "source": [
    "Clean up the output in the notebook"
   ]
  },
  {
   "cell_type": "raw",
   "metadata": {},
   "source": [
    "!jupyter nbconvert --ClearOutputPreprocessor.enabled=True --inplace --clear-output Machine_Training.ipynb"
   ]
  },
  {
   "cell_type": "raw",
   "metadata": {},
   "source": [
    "!jupyter nbconvert --ClearOutputPreprocessor.enabled=True --inplace --clear-output Barco_Facial_Landmarks.ipynb"
   ]
  },
  {
   "cell_type": "markdown",
   "metadata": {},
   "source": [
    "Compress the code for downloading"
   ]
  },
  {
   "cell_type": "raw",
   "metadata": {},
   "source": [
    "!tar -zcvf ../${PWD##*/}.tar.gz ../${PWD##*/}"
   ]
  }
 ],
 "metadata": {
  "kernelspec": {
   "display_name": "Python 3",
   "language": "python",
   "name": "python3"
  },
  "language_info": {
   "codemirror_mode": {
    "name": "ipython",
    "version": 3
   },
   "file_extension": ".py",
   "mimetype": "text/x-python",
   "name": "python",
   "nbconvert_exporter": "python",
   "pygments_lexer": "ipython3",
   "version": "3.6.3"
  }
 },
 "nbformat": 4,
 "nbformat_minor": 2
}
