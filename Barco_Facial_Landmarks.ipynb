{
 "cells": [
  {
   "cell_type": "code",
   "execution_count": null,
   "metadata": {},
   "outputs": [],
   "source": [
    "import cv2"
   ]
  },
  {
   "cell_type": "code",
   "execution_count": null,
   "metadata": {},
   "outputs": [],
   "source": [
    "from src.imageoverlay.classification_decorator import ClassificationDecorator as ClassDecorator\n",
    "from src.imageoverlay.framecomponent import CachingLandmarkComponent as LandmarkComponent\n",
    "from src.imageoverlay.multifacesloopdecorator import MultiFacesLoopDecorator as AllFaces\n",
    "from src.imageoverlay.framecomponent import LandmarkOverlayDecorator\n",
    "from src.machinelearningsuite.landmarkdetector import LandmarkDetector\n",
    "from src.machinelearningsuite.predictorinterface import PredictorInterface\n",
    "from src.imageoverlay.configured_overlay_decorator import ConfiguredOverlayDecorator as SpriteDecorator"
   ]
  },
  {
   "cell_type": "markdown",
   "metadata": {},
   "source": [
    "## Method to display streams in notebook "
   ]
  },
  {
   "cell_type": "code",
   "execution_count": null,
   "metadata": {},
   "outputs": [],
   "source": [
    "import IPython\n",
    "import PIL.Image\n",
    "from io import StringIO\n",
    "from io import BytesIO\n",
    "from IPython.display import clear_output\n",
    "import cv2\n",
    "from time import sleep"
   ]
  },
  {
   "cell_type": "code",
   "execution_count": null,
   "metadata": {},
   "outputs": [],
   "source": [
    "#Use 'jpeg' instead of 'png' (~5 times faster)\n",
    "def showarray(a, fmt='jpeg'):\n",
    "    f = BytesIO()\n",
    "    something = PIL.Image.fromarray(a)\n",
    "    something.save(f, fmt)\n",
    "    clear_output(wait=True)\n",
    "    IPython.display.display(IPython.display.Image(data=f.getvalue()))"
   ]
  },
  {
   "cell_type": "markdown",
   "metadata": {},
   "source": [
    "## Video parameters"
   ]
  },
  {
   "cell_type": "code",
   "execution_count": null,
   "metadata": {},
   "outputs": [],
   "source": [
    "scale = 0.6"
   ]
  },
  {
   "cell_type": "code",
   "execution_count": null,
   "metadata": {},
   "outputs": [],
   "source": [
    "def construct_stream():\n",
    "    # return cv2.VideoCapture(\"/media/local/videos/obama.mp4\")\n",
    "    return cv2.VideoCapture(0)"
   ]
  },
  {
   "cell_type": "markdown",
   "metadata": {},
   "source": [
    "## Main loop method"
   ]
  },
  {
   "cell_type": "code",
   "execution_count": null,
   "metadata": {},
   "outputs": [],
   "source": [
    "def run_pipeline_with_end_component(component):\n",
    "    try:\n",
    "        video_stream = construct_stream()\n",
    "        while True:\n",
    "            _, skipped_frame = video_stream.read()\n",
    "            ret, frame = video_stream.read()\n",
    "            if frame is None:\n",
    "                continue\n",
    "            frame = cv2.resize(frame, (0, 0), fx=scale, fy=scale)\n",
    "            base_component.set_image(frame)\n",
    "            output = component.get_image()\n",
    "            output = cv2.cvtColor(output, cv2.COLOR_BGR2RGB)\n",
    "            showarray(output)\n",
    "    except KeyboardInterrupt:\n",
    "        video_stream.release()\n",
    "        print(\"Stream stopped\")\n",
    "    video_stream.release()"
   ]
  },
  {
   "cell_type": "markdown",
   "metadata": {},
   "source": [
    "## Decorator pipeline"
   ]
  },
  {
   "cell_type": "code",
   "execution_count": null,
   "metadata": {},
   "outputs": [],
   "source": [
    "# Instanciate a new landmark detector\n",
    "detector_data_path = '/media/local/data/shape_predictor_68_face_landmarks.dat'\n",
    "landmark_detector = LandmarkDetector(predictor_file=detector_data_path)\n",
    "\n",
    "# Create a frame component with landmarks\n",
    "base_component = LandmarkComponent(landmark_detector)"
   ]
  },
  {
   "cell_type": "code",
   "execution_count": null,
   "metadata": {},
   "outputs": [],
   "source": [
    "landmarks = LandmarkOverlayDecorator(base_component)"
   ]
  },
  {
   "cell_type": "code",
   "execution_count": null,
   "metadata": {},
   "outputs": [],
   "source": [
    "# Instantiate and initialize the trained predictor\n",
    "predictor = PredictorInterface('./examples/mouth.pkl')\n",
    "predictor.initialize()"
   ]
  },
  {
   "cell_type": "code",
   "execution_count": null,
   "metadata": {},
   "outputs": [],
   "source": [
    "# Add decorator for the predictor\n",
    "predictor_decorator = ClassDecorator(parent_component=landmarks, classifier=predictor)\n",
    "hat = SpriteDecorator(base_file_name='./sprites/Party_Hat')\n",
    "predictor_decorator.set_decorator_for_class(hat, 0)"
   ]
  },
  {
   "cell_type": "code",
   "execution_count": null,
   "metadata": {},
   "outputs": [],
   "source": [
    "multifaces = AllFaces.wrap(predictor_decorator)"
   ]
  },
  {
   "cell_type": "markdown",
   "metadata": {},
   "source": [
    "## Run"
   ]
  },
  {
   "cell_type": "code",
   "execution_count": null,
   "metadata": {},
   "outputs": [],
   "source": [
    "run_pipeline_with_end_component(multifaces)"
   ]
  },
  {
   "cell_type": "markdown",
   "metadata": {},
   "source": [
    "## Useful bash commands"
   ]
  },
  {
   "cell_type": "markdown",
   "metadata": {},
   "source": [
    "(Change the cell types from 'raw' to 'code' by pressing the 'y' key, then execute)"
   ]
  },
  {
   "cell_type": "markdown",
   "metadata": {},
   "source": [
    "Check the available video devices"
   ]
  },
  {
   "cell_type": "raw",
   "metadata": {},
   "source": [
    "!ls -lthr /dev/video*"
   ]
  },
  {
   "cell_type": "markdown",
   "metadata": {},
   "source": [
    "Clean up the output in the notebook"
   ]
  },
  {
   "cell_type": "raw",
   "metadata": {},
   "source": [
    "!jupyter nbconvert --ClearOutputPreprocessor.enabled=True --inplace --clear-output Machine_Training.ipynb"
   ]
  },
  {
   "cell_type": "code",
   "execution_count": null,
   "metadata": {},
   "outputs": [],
   "source": [
    "!jupyter nbconvert --ClearOutputPreprocessor.enabled=True --inplace --clear-output Barco_Facial_Landmarks.ipynb"
   ]
  },
  {
   "cell_type": "markdown",
   "metadata": {},
   "source": [
    "Compress the code for downloading"
   ]
  },
  {
   "cell_type": "raw",
   "metadata": {},
   "source": [
    "!tar -zcvf ../${PWD##*/}.tar.gz ../${PWD##*/}"
   ]
  }
 ],
 "metadata": {
  "kernelspec": {
   "display_name": "Python 3",
   "language": "python",
   "name": "python3"
  },
  "language_info": {
   "codemirror_mode": {
    "name": "ipython",
    "version": 3
   },
   "file_extension": ".py",
   "mimetype": "text/x-python",
   "name": "python",
   "nbconvert_exporter": "python",
   "pygments_lexer": "ipython3",
   "version": "3.6.3"
  }
 },
 "nbformat": 4,
 "nbformat_minor": 2
}
